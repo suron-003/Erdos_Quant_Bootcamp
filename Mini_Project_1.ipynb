{
  "cells": [
    {
      "cell_type": "markdown",
      "id": "957e7b08",
      "metadata": {
        "id": "957e7b08"
      },
      "source": [
        "# Mini Project 1\n",
        "\n",
        "**2025 Introduction to Quantiative Methods in Finance**\n",
        "\n",
        "**The Erdös Institute**\n",
        "\n",
        "**Instructions** Use current stock data to create two potentially profitable investment portfolios. One that is higher risk and one that is lower risk.\n",
        "\n",
        "-- You are to interpret and explain your interpretation of a high risk profile and low risk profile of a portfolio. You should provide some measurable quantitative data in your explanation."
      ]
    },
    {
      "cell_type": "markdown",
      "source": [
        "**Idea**\n",
        "\n",
        "\\\\\n",
        "\n",
        "Let us work with the same set of 5 stocks as in the lecture 2. Let the high risk portfolio involve just maximizing the total return on investments regardless of the volatility and the low risk portfolie involve maximizing the total return while minimizing the volatility! Let us say we invest for one financial year.  "
      ],
      "metadata": {
        "id": "vs6-7z4kf0w-"
      },
      "id": "vs6-7z4kf0w-"
    },
    {
      "cell_type": "code",
      "execution_count": null,
      "id": "ceced76b",
      "metadata": {
        "id": "ceced76b"
      },
      "outputs": [],
      "source": [
        "#Import Packages\n",
        "import numpy as np\n",
        "import matplotlib.pyplot as plt\n",
        "import pandas as pd\n",
        "import seaborn as sns\n",
        "from scipy.optimize import minimize\n",
        "import datetime as dt\n",
        "sns.set_style('darkgrid')\n",
        "import yfinance as yf\n",
        "import scipy.stats as stats"
      ]
    },
    {
      "cell_type": "code",
      "source": [
        "tickers = ['AMZN', 'MSFT', 'GOOG', 'HD', 'GM']\n",
        "\n",
        "#last financial year\n",
        "start_date = dt.datetime.today() - dt.timedelta(days = 252)\n",
        "end_date = dt.datetime.today()\n",
        "\n",
        "stock = yf.download(tickers, start = start_date, end = end_date)"
      ],
      "metadata": {
        "colab": {
          "base_uri": "https://localhost:8080/"
        },
        "id": "Kmo5Uj3Pg6-I",
        "outputId": "bcaf8250-0aed-4214-8548-cf7a70b69b55"
      },
      "id": "Kmo5Uj3Pg6-I",
      "execution_count": null,
      "outputs": [
        {
          "output_type": "stream",
          "name": "stderr",
          "text": [
            "/tmp/ipython-input-19-1547578868.py:7: FutureWarning: YF.download() has changed argument auto_adjust default to True\n",
            "  stock = yf.download(tickers, start = start_date, end = end_date)\n",
            "[*********************100%***********************]  5 of 5 completed\n"
          ]
        }
      ]
    },
    {
      "cell_type": "code",
      "source": [
        "#calculating return of investment of each stock"
      ],
      "metadata": {
        "id": "E7Im7p8kirOQ"
      },
      "id": "E7Im7p8kirOQ",
      "execution_count": null,
      "outputs": []
    },
    {
      "cell_type": "code",
      "source": [
        "daily_returns = np.log(stock['Close']/stock['Close'].shift(1))\n",
        "daily_returns = daily_returns.dropna()\n",
        "\n",
        "annualized_volatility = {ticker: np.std(daily_returns[ticker])*np.sqrt(252) for ticker in tickers}\n",
        "# Calculate the covariance matrix\n",
        "covariance_matrix = 252*((daily_returns.cov()))"
      ],
      "metadata": {
        "id": "vO0ymiy_jJs3"
      },
      "id": "vO0ymiy_jJs3",
      "execution_count": null,
      "outputs": []
    },
    {
      "cell_type": "code",
      "source": [
        "# Number of assets\n",
        "n_assets = len(tickers)\n",
        "\n",
        "# Define an initial guess for asset weights (e.g., equal weights)\n",
        "initial_weights = np.array([1/n_assets]*n_assets)\n",
        "\n",
        "# Define weight constraints\n",
        "#Sum of weights equals 1\n",
        "#Do not allocate more than 35% of capital into each index in stock_symbol\n",
        "constraints1 = ({'type': 'eq', 'fun': lambda weights: np.sum(weights)-1},\n",
        "               {'type': 'ineq', 'fun': lambda weights: min(weights)-0.1},\n",
        "               {'type': 'ineq', 'fun': lambda weights: 0.35-max(weights)})\n",
        "\n",
        "# Define the objective function to minimize portfolio variance\n",
        "def portfolio_volatility(weights):\n",
        "    portfolio_std_dev = np.sqrt(np.dot(weights.T,np.dot(covariance_matrix,weights)))\n",
        "    return portfolio_std_dev\n",
        "\n",
        "def portfolio_return(weights):\n",
        "    portfolio_return = -1*np.sum(daily_returns.mean()*weights)*252\n",
        "    return portfolio_return\n",
        "\n",
        "#low_risk\n",
        "result_low_risk = minimize(portfolio_volatility, initial_weights, method='SLSQP', constraints=constraints1)\n",
        "\n",
        "# Optimal asset weights\n",
        "optimal_weights = result_low_risk.x\n",
        "optimal_vol = result_low_risk.fun\n",
        "print(optimal_weights)\n",
        "print(optimal_vol)\n",
        "constraints2 = ({'type': 'eq', 'fun': lambda weights: np.sum(weights)-1},\n",
        "                {'type': 'ineq', 'fun': lambda weights: min(weights)-0.01},\n",
        "                {'type': 'ineq', 'fun': lambda weights: 0.99 - max(weights)})\n",
        "#high_risk\n",
        "result_high_risk = minimize(portfolio_return, initial_weights, method='SLSQP', constraints=constraints2)\n",
        "optimal_weights = result_high_risk.x\n",
        "\n",
        "vol = portfolio_volatility(optimal_weights)\n",
        "print(optimal_weights)\n",
        "print(vol)"
      ],
      "metadata": {
        "colab": {
          "base_uri": "https://localhost:8080/"
        },
        "id": "bNECK338jRzj",
        "outputId": "6c0ca3d3-02a2-4688-d7fc-70397316b103"
      },
      "id": "bNECK338jRzj",
      "execution_count": null,
      "outputs": [
        {
          "output_type": "stream",
          "name": "stdout",
          "text": [
            "[0.1        0.10023461 0.11030373 0.35       0.33946166]\n",
            "0.21707689920302126\n",
            "[0.01001392 0.01473645 0.01       0.0133399  0.95190973]\n",
            "0.27198064654156534\n"
          ]
        }
      ]
    },
    {
      "cell_type": "code",
      "source": [],
      "metadata": {
        "id": "tPLzD-R9mMle"
      },
      "id": "tPLzD-R9mMle",
      "execution_count": null,
      "outputs": []
    }
  ],
  "metadata": {
    "kernelspec": {
      "display_name": "Python 3 (ipykernel)",
      "language": "python",
      "name": "python3"
    },
    "language_info": {
      "codemirror_mode": {
        "name": "ipython",
        "version": 3
      },
      "file_extension": ".py",
      "mimetype": "text/x-python",
      "name": "python",
      "nbconvert_exporter": "python",
      "pygments_lexer": "ipython3",
      "version": "3.9.13"
    },
    "colab": {
      "provenance": []
    }
  },
  "nbformat": 4,
  "nbformat_minor": 5
}